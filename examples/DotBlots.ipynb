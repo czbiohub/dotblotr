{
 "cells": [
  {
   "cell_type": "code",
   "execution_count": 1,
   "metadata": {},
   "outputs": [],
   "source": [
    "%matplotlib inline\n",
    "#import cv2\n",
    "#from matplotlib import pyplot as plt\n",
    "import numpy as np\n",
    "from sklearn.cluster import KMeans\n",
    "from skimage import io\n",
    "from skimage.color import rgb2gray, label2rgb, gray2rgb\n",
    "from skimage.draw import circle_perimeter\n",
    "from skimage.filters import threshold_otsu, threshold_local, median\n",
    "from skimage.feature import canny\n",
    "from skimage.measure import label, regionprops\n",
    "from skimage.morphology import closing, square, disk, erosion\n",
    "from skimage.segmentation import clear_border\n",
    "from skimage.transform import hough_circle, hough_circle_peaks"
   ]
  },
  {
   "cell_type": "code",
   "execution_count": 2,
   "metadata": {},
   "outputs": [
    {
     "ename": "NameError",
     "evalue": "name 'cv2' is not defined",
     "output_type": "error",
     "traceback": [
      "\u001b[0;31m---------------------------------------------------------------------------\u001b[0m",
      "\u001b[0;31mNameError\u001b[0m                                 Traceback (most recent call last)",
      "\u001b[0;32m<ipython-input-2-c51cc73af2cd>\u001b[0m in \u001b[0;36m<module>\u001b[0;34m\u001b[0m\n\u001b[0;32m----> 1\u001b[0;31m \u001b[0mim\u001b[0m \u001b[0;34m=\u001b[0m \u001b[0mcv2\u001b[0m\u001b[0;34m.\u001b[0m\u001b[0mimread\u001b[0m\u001b[0;34m(\u001b[0m\u001b[0;34m'test_image.tif'\u001b[0m\u001b[0;34m,\u001b[0m \u001b[0mcv2\u001b[0m\u001b[0;34m.\u001b[0m\u001b[0mIMREAD_GRAYSCALE\u001b[0m\u001b[0;34m)\u001b[0m\u001b[0;34m\u001b[0m\u001b[0;34m\u001b[0m\u001b[0m\n\u001b[0m\u001b[1;32m      2\u001b[0m \u001b[0;34m\u001b[0m\u001b[0m\n\u001b[1;32m      3\u001b[0m \u001b[0mthresh\u001b[0m \u001b[0;34m=\u001b[0m \u001b[0mthreshold_otsu\u001b[0m\u001b[0;34m(\u001b[0m\u001b[0mim\u001b[0m\u001b[0;34m)\u001b[0m\u001b[0;34m\u001b[0m\u001b[0;34m\u001b[0m\u001b[0m\n\u001b[1;32m      4\u001b[0m \u001b[0mbinary\u001b[0m \u001b[0;34m=\u001b[0m \u001b[0mim\u001b[0m \u001b[0;34m<\u001b[0m \u001b[0mthresh\u001b[0m\u001b[0;34m\u001b[0m\u001b[0;34m\u001b[0m\u001b[0m\n",
      "\u001b[0;31mNameError\u001b[0m: name 'cv2' is not defined"
     ]
    }
   ],
   "source": [
    "im = cv2.imread('test_image.tif', cv2.IMREAD_GRAYSCALE)\n",
    "\n",
    "thresh = threshold_otsu(im)\n",
    "binary = im < thresh\n"
   ]
  },
  {
   "cell_type": "code",
   "execution_count": null,
   "metadata": {},
   "outputs": [],
   "source": [
    "plt.imshow(im)"
   ]
  },
  {
   "cell_type": "code",
   "execution_count": null,
   "metadata": {},
   "outputs": [],
   "source": [
    "im = cv2.imread('test_image.tif', cv2.IMREAD_GRAYSCALE)\n",
    "\n",
    "thresh = threshold_local(im, block_size=41)\n",
    "binary = im < thresh\n",
    "im[binary] = 0\n",
    "plt.imshow(im)"
   ]
  },
  {
   "cell_type": "code",
   "execution_count": null,
   "metadata": {},
   "outputs": [],
   "source": [
    "io.imsave('test.tif', im)"
   ]
  },
  {
   "cell_type": "code",
   "execution_count": null,
   "metadata": {},
   "outputs": [],
   "source": [
    "# Setup SimpleBlobDetector parameters.\n",
    "params = cv2.SimpleBlobDetector_Params()\n",
    " \n",
    "# Filter by Circularity\n",
    "params.filterByCircularity = True\n",
    "params.minCircularity = 0.1\n",
    " \n",
    "# Filter by Inertia\n",
    "params.filterByInertia = True\n",
    "params.minInertiaRatio = 0.01\n",
    "\n",
    "# Set up the detector with default parameters.\n",
    "detector = cv2.SimpleBlobDetector_create(params)\n",
    " \n",
    "# Detect blobs.\n",
    "keypoints = detector.detect(im)\n",
    " \n",
    "# Draw detected blobs as red circles.\n",
    "# cv2.DRAW_MATCHES_FLAGS_DRAW_RICH_KEYPOINTS ensures the size of the circle corresponds to the size of blob\n",
    "im_with_keypoints = cv2.drawKeypoints(im, keypoints, np.array([]), (0,0,255), cv2.DRAW_MATCHES_FLAGS_DRAW_RICH_KEYPOINTS)\n",
    " "
   ]
  },
  {
   "cell_type": "code",
   "execution_count": null,
   "metadata": {},
   "outputs": [],
   "source": [
    "f, ax = plt.subplots(figsize=(15, 10))\n",
    "ax.imshow(im_with_keypoints)"
   ]
  },
  {
   "cell_type": "code",
   "execution_count": null,
   "metadata": {},
   "outputs": [],
   "source": [
    "im = io.imread('1536_680nm.tif')\n",
    "\n",
    "filtered = median(im, square(7))\n",
    "thresh = threshold_local(filtered, block_size=101)\n",
    "bw = closing(filtered > thresh, square(3))\n",
    "\n",
    "cleared = clear_border(bw)\n",
    "label_image = label(cleared)\n",
    "image_label_overlay = label2rgb(label_image, image=im)\n",
    "\n",
    "regions = regionprops(label_image)\n",
    "\n",
    "#f, ax = plt.subplots(figsize=(15, 10))\n",
    "#ax.imshow(image_label_overlay)"
   ]
  },
  {
   "cell_type": "code",
   "execution_count": null,
   "metadata": {},
   "outputs": [],
   "source": [
    "%gui qt5\n",
    "import napari\n"
   ]
  },
  {
   "cell_type": "code",
   "execution_count": null,
   "metadata": {},
   "outputs": [],
   "source": [
    "viewer = napari.view_image(im)\n",
    "viewer.add_labels(label_image)\n",
    "\n",
    "eroded_labels = erosion(label_image, selem=disk(7))\n",
    "\n",
    "viewer.add_labels(eroded_labels)\n",
    "\n"
   ]
  },
  {
   "cell_type": "code",
   "execution_count": null,
   "metadata": {},
   "outputs": [],
   "source": [
    "eroded_regions = regionprops(eroded_labels)\n",
    "\n",
    "areas = [r.area for r in eroded_regions]\n",
    "\n",
    "area_thresh = threshold_otsu(np.asarray(areas))\n",
    "\n",
    "plt.hist(areas)\n",
    "\n",
    "print(area_thresh)"
   ]
  },
  {
   "cell_type": "code",
   "execution_count": null,
   "metadata": {},
   "outputs": [],
   "source": [
    "len(eroded_regions)"
   ]
  },
  {
   "cell_type": "code",
   "execution_count": null,
   "metadata": {},
   "outputs": [],
   "source": [
    "def calc_circularity(region):\n",
    "    area = region.area\n",
    "    perimeter = region.perimeter\n",
    "    \n",
    "    if perimeter > 0:\n",
    "        circularity = 4 * area * np.pi / perimeter**2\n",
    "    else:\n",
    "        circularity = 0\n",
    "    \n",
    "    return circularity"
   ]
  },
  {
   "cell_type": "code",
   "execution_count": null,
   "metadata": {},
   "outputs": [],
   "source": [
    "size_filtered = [r for r in eroded_regions if r.area > 100]\n",
    "circularity = [calc_circularity(r) for r in size_filtered]\n",
    "\n",
    "#circularity_filtered = [r for c, r in zip(circularity, size_filtered) if c > 0.6]\n",
    "circularity_filtered = size_filtered"
   ]
  },
  {
   "cell_type": "code",
   "execution_count": null,
   "metadata": {},
   "outputs": [],
   "source": [
    "areas = [r.area for r in circularity_filtered]\n",
    "\n",
    "good_labels = [r.label for r in circularity_filtered]\n",
    "\n",
    "unique_labels = np.unique(label_image)\n",
    "in_good_labels = np.isin(unique_labels, good_labels)\n",
    "labels_to_remove = unique_labels[np.logical_not(in_good_labels)]\n",
    "\n",
    "good_label_im = label_image\n",
    "for l in labels_to_remove:\n",
    "    good_label_im[good_label_im == l] = 0"
   ]
  },
  {
   "cell_type": "code",
   "execution_count": null,
   "metadata": {},
   "outputs": [],
   "source": [
    "image_label_overlay = label2rgb(good_label_im, image=im, bg_label=0, image_alpha=0.8)\n",
    "\n",
    "f, ax = plt.subplots(figsize=(15, 10))\n",
    "ax.imshow(image_label_overlay)"
   ]
  },
  {
   "cell_type": "code",
   "execution_count": null,
   "metadata": {},
   "outputs": [],
   "source": [
    "coords = np.array([r.centroid for r in circularity_filtered])"
   ]
  },
  {
   "cell_type": "code",
   "execution_count": null,
   "metadata": {},
   "outputs": [],
   "source": [
    "coords[:, 1].max()"
   ]
  },
  {
   "cell_type": "code",
   "execution_count": null,
   "metadata": {},
   "outputs": [],
   "source": [
    "binary_mask = good_label_im > 0\n",
    "\n",
    "plt.imshow(binary_mask)"
   ]
  },
  {
   "cell_type": "code",
   "execution_count": null,
   "metadata": {},
   "outputs": [],
   "source": [
    "napari.view_labels(binary_mask)"
   ]
  },
  {
   "cell_type": "code",
   "execution_count": null,
   "metadata": {},
   "outputs": [],
   "source": [
    "image_label_overlay = label2rgb(good_label_im, image=im, bg_color=[0, 0, 0], image_alpha=1)\n",
    "\n",
    "f, ax = plt.subplots(figsize=(15, 10))\n",
    "ax.imshow(image_label_overlay)"
   ]
  },
  {
   "cell_type": "code",
   "execution_count": null,
   "metadata": {},
   "outputs": [],
   "source": []
  },
  {
   "cell_type": "code",
   "execution_count": null,
   "metadata": {},
   "outputs": [],
   "source": [
    "unique_labels = np.unique(label_image)"
   ]
  },
  {
   "cell_type": "code",
   "execution_count": null,
   "metadata": {},
   "outputs": [],
   "source": []
  },
  {
   "cell_type": "code",
   "execution_count": null,
   "metadata": {},
   "outputs": [],
   "source": [
    "src = im\n",
    "\n",
    "gray = cv2.medianBlur(im, 7)\n",
    "\n",
    "circles = cv2.HoughCircles(gray, cv2.HOUGH_GRADIENT, 1, 20,\n",
    "                               param1=100, param2=30,\n",
    "                               minRadius=1, maxRadius=20)\n",
    "\n",
    "if circles is not None:\n",
    "    circles = np.uint16(np.around(circles))\n",
    "    for i in circles[0, :]:\n",
    "        center = (i[0], i[1])\n",
    "        # circle center\n",
    "        cv2.circle(src, center, 1, (0, 100, 100), 3)\n",
    "        # circle outline\n",
    "        radius = i[2]\n",
    "        cv2.circle(src, center, radius, (255, 0, 255), 3)"
   ]
  },
  {
   "cell_type": "code",
   "execution_count": null,
   "metadata": {},
   "outputs": [],
   "source": []
  },
  {
   "cell_type": "code",
   "execution_count": null,
   "metadata": {},
   "outputs": [],
   "source": [
    "def make_grid(n_row, n_col, jitter):\n",
    "    GRID_SPACING = 10\n",
    "    \n",
    "    x = np.arange(0, GRID_SPACING*n_col, GRID_SPACING)\n",
    "    y = np.arange(0, GRID_SPACING*n_row, GRID_SPACING)\n",
    "                  \n",
    "    grid_x, grid_y = np.meshgrid(x, y)\n",
    "    \n",
    "    x = grid_x.ravel()\n",
    "    y = grid_y.ravel()\n",
    "\n",
    "    jitter_x = jitter * (np.random.random(size=x.shape) - 0.5)\n",
    "    jitter_y = jitter * (np.random.random(size=y.shape) - 0.5)\n",
    "    \n",
    "    coords_x = x + jitter_x\n",
    "    coords_y = y + jitter_y\n",
    "    \n",
    "    return coords_x, coords_y"
   ]
  },
  {
   "cell_type": "code",
   "execution_count": null,
   "metadata": {},
   "outputs": [],
   "source": [
    "x, y = make_grid(5, 5, 2)\n",
    "coords = np.array([[x, y] for x, y in zip(x, y)])"
   ]
  },
  {
   "cell_type": "code",
   "execution_count": null,
   "metadata": {},
   "outputs": [],
   "source": [
    "plt.plot(x, y, 'ok')"
   ]
  },
  {
   "cell_type": "code",
   "execution_count": null,
   "metadata": {},
   "outputs": [],
   "source": [
    "def find_indices(coords):\n",
    "\n",
    "    kmeans = KMeans(n_clusters=5, random_state=0).fit(coords.reshape(-1, 1))\n",
    "    labels = kmeans.labels_\n",
    "\n",
    "    indices = np.argsort(kmeans.cluster_centers_.ravel()).argsort()\n",
    "    \n",
    "    return labels, indices"
   ]
  },
  {
   "cell_type": "code",
   "execution_count": null,
   "metadata": {},
   "outputs": [],
   "source": [
    "col_labels, col_indices = find_indices(x)\n",
    "row_labels, row_indices = find_indices(y)"
   ]
  },
  {
   "cell_type": "code",
   "execution_count": null,
   "metadata": {},
   "outputs": [],
   "source": [
    "col_indices"
   ]
  },
  {
   "cell_type": "code",
   "execution_count": null,
   "metadata": {},
   "outputs": [],
   "source": [
    "plt.scatter(x, y, c=col_labels)"
   ]
  },
  {
   "cell_type": "code",
   "execution_count": null,
   "metadata": {},
   "outputs": [],
   "source": [
    "plt.scatter(x, y, c=row_labels)"
   ]
  },
  {
   "cell_type": "code",
   "execution_count": null,
   "metadata": {},
   "outputs": [],
   "source": [
    "well_coords = [[row_indices[row], col_indices[col]] for row, col in zip(row_labels, col_labels)]"
   ]
  },
  {
   "cell_type": "code",
   "execution_count": null,
   "metadata": {},
   "outputs": [],
   "source": [
    "well_coords"
   ]
  },
  {
   "cell_type": "code",
   "execution_count": null,
   "metadata": {},
   "outputs": [],
   "source": []
  },
  {
   "cell_type": "code",
   "execution_count": null,
   "metadata": {},
   "outputs": [],
   "source": []
  }
 ],
 "metadata": {
  "kernelspec": {
   "display_name": "Python 3",
   "language": "python",
   "name": "python3"
  },
  "language_info": {
   "codemirror_mode": {
    "name": "ipython",
    "version": 3
   },
   "file_extension": ".py",
   "mimetype": "text/x-python",
   "name": "python",
   "nbconvert_exporter": "python",
   "pygments_lexer": "ipython3",
   "version": "3.6.8"
  }
 },
 "nbformat": 4,
 "nbformat_minor": 2
}
